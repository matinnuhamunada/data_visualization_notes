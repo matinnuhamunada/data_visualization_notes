{
 "cells": [
  {
   "cell_type": "code",
   "execution_count": 1,
   "id": "34538061-ea5f-403c-89b7-2d3670be5a18",
   "metadata": {},
   "outputs": [],
   "source": [
    "import warnings\n",
    "warnings.filterwarnings('ignore')\n",
    "\n",
    "%load_ext rpy2.ipython"
   ]
  },
  {
   "cell_type": "raw",
   "id": "afeccedd-46d6-468a-b86b-4fd32ff78dfe",
   "metadata": {},
   "source": [
    "%%bash\n",
    "mamba install -c conda-forge r-phytools r-paco r-plotly r-svglite r-viridis -y"
   ]
  },
  {
   "cell_type": "code",
   "execution_count": 74,
   "id": "4c83bcbb-29a1-47a5-b08a-0b56f7b1b37b",
   "metadata": {},
   "outputs": [],
   "source": [
    "%%capture\n",
    "%%R\n"
   ]
  },
  {
   "cell_type": "code",
   "execution_count": 75,
   "id": "4ce7125b-b0ce-424c-bc62-38c1f94ae3e1",
   "metadata": {},
   "outputs": [
    {
     "name": "stdout",
     "output_type": "stream",
     "text": [
      "Rotating nodes to optimize matching...\n",
      "Done.\n",
      "png \n",
      "  2 \n"
     ]
    }
   ],
   "source": [
    "%%R  -w 800 -h 1200\n",
    "library(phytools)\n",
    "library(paco)\n",
    "library(plotly)\n",
    "library(viridis)\n",
    "library(svglite)\n",
    "\n",
    "# read metadata table\n",
    "data <- read.csv(\"/home/azureuser/datadrive/saccharopolyspora_dataset/data/processed/Staphylobactin_bigfam/tables/df_gtdb_meta.csv\")\n",
    "\n",
    "# preprocess genome tree\n",
    "tree_genome <- read.tree(\"/home/azureuser/datadrive/saccharopolyspora_dataset/data/processed/Staphylobactin_bigfam/automlst_wrapper/final_corrected.newick\")\n",
    "# midpoint root\n",
    "tree_genome <- phangorn::midpoint(tree_genome)\n",
    "tree_genome <- ladderize(reorder(tree_genome))\n",
    "\n",
    "# preprocess bgc tree\n",
    "tree_bgc <- read.tree(\"/home/azureuser/datadrive/saccharopolyspora_dataset/data/processed/Staphylobactin_bigfam_bgc_filtered/notebooks/assets/data/bgc_tree_with_genome_id.tree\")\n",
    "# midpoint root\n",
    "tree_bgc <- phangorn::midpoint(tree_bgc)\n",
    "tree_bgc <- ladderize(reorder(tree_bgc))\n",
    "\n",
    "# build links, here it mapped the same genome_ids\n",
    "links <- cbind(tree_bgc$tip, tree_bgc$tip)\n",
    "obj <- cophylo(tree_genome, tree_bgc, links, rotate = TRUE)\n",
    "\n",
    "# Create a unique color for each family category.\n",
    "family_levels <- unique(data$Family)\n",
    "colors <- rainbow(length(family_levels))\n",
    "\n",
    "# Create a named vector of colors for each family.\n",
    "family_colors <- setNames(colors, family_levels)\n",
    "\n",
    "# Assuming 'tree_bgc$tip.label' can be matched to 'data$tip_label' to find the genus.\n",
    "tip_family1 <- data$Family[match(obj$trees[[1]]$tip.label, data$genome_id)]\n",
    "tip_colors1 <- family_colors[tip_family1]\n",
    "\n",
    "# Assuming 'tree_bgc$tip.label' can be matched to 'data$tip_label' to find the genus.\n",
    "tip_family2 <- data$Family[match(obj$trees[[2]]$tip.label, data$genome_id)]\n",
    "tip_colors2 <- family_colors[tip_family2]\n",
    "\n",
    "# Assuming 'tree_bgc$tip.label' can be matched to 'data$tip_label' to find the genus.\n",
    "link_family <- data$Family[match(links[,1], data$genome_id)]\n",
    "link_colors <- family_colors[link_family]\n",
    "\n",
    "#pdf(\"tanglegram.pdf\", width=16, height=24)\n",
    "svglite(\"output.svg\", width = 16, height = 24)\n",
    "# draw the cophylo\n",
    "plot.cophylo(obj, link.type=\"curved\", link.lwd=2, link.lty=\"solid\", fsize=c(0.8,0.8), pts=FALSE,\n",
    "             link.col = make.transparent(link_colors, 0.5))\n",
    "\n",
    "nodelabels.cophylo(obj$trees[[1]]$node.label[2:Nnode(obj$trees[[1]])],\n",
    "  2:Nnode(obj$trees[[1]])+Ntip(obj$trees[[1]]),frame=\"none\",\n",
    "  cex=0.5,adj=c(1,-0.4),which=\"left\")\n",
    "\n",
    "nodelabels.cophylo(obj$trees[[2]]$node.label[2:Nnode(obj$trees[[2]])],\n",
    "  2:Nnode(obj$trees[[2]])+Ntip(obj$trees[[2]]),frame=\"none\",\n",
    "  cex=0.5,adj=c(0,1.4),which=\"right\")\n",
    "\n",
    "## add tip labels\n",
    "tiplabels.cophylo(pch=21,frame=\"none\",bg=tip_colors1,cex=1.5)\n",
    "tiplabels.cophylo(pch=21,frame=\"none\",bg=tip_colors2,which=\"right\",cex=1.5)\n",
    "\n",
    "# Use locator to interactively place the legend\n",
    "# Note: Remove this line if you're running the script non-interactively or if you're saving to PDF\n",
    "position <- locator(1)  # Click on the plot where you want the legend to appear\n",
    "\n",
    "# Add a legend outside the plot area (to the right)\n",
    "#par(xpd=TRUE)  # Allow plotting outside the plot area\n",
    "legend(x=\"bottomleft\", inset=c(-0.0, 0),  # Adjust inset to move the legend to the left\n",
    "       legend=names(family_colors), \n",
    "       fill=family_colors, \n",
    "       title=\"Family\", \n",
    "       cex=0.7, \n",
    "       pt.cex=0.7, \n",
    "       text.width=0.2)\n",
    "\n",
    "dev.off()"
   ]
  },
  {
   "cell_type": "code",
   "execution_count": null,
   "id": "641ce8df-c57f-425d-b2ec-94a3f221f148",
   "metadata": {},
   "outputs": [],
   "source": []
  }
 ],
 "metadata": {
  "kernelspec": {
   "display_name": "Python 3 (ipykernel)",
   "language": "python",
   "name": "python3"
  },
  "language_info": {
   "codemirror_mode": {
    "name": "ipython",
    "version": 3
   },
   "file_extension": ".py",
   "mimetype": "text/x-python",
   "name": "python",
   "nbconvert_exporter": "python",
   "pygments_lexer": "ipython3",
   "version": "3.12.0"
  }
 },
 "nbformat": 4,
 "nbformat_minor": 5
}
